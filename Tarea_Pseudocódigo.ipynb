{
  "nbformat": 4,
  "nbformat_minor": 0,
  "metadata": {
    "colab": {
      "provenance": [],
      "authorship_tag": "ABX9TyM6wtBckAigxAtcrgJS+MYB",
      "include_colab_link": true
    },
    "kernelspec": {
      "name": "python3",
      "display_name": "Python 3"
    },
    "language_info": {
      "name": "python"
    }
  },
  "cells": [
    {
      "cell_type": "markdown",
      "metadata": {
        "id": "view-in-github",
        "colab_type": "text"
      },
      "source": [
        "<a href=\"https://colab.research.google.com/github/Dannam07/FundProg_202510/blob/main/Tarea_Pseudoc%C3%B3digo.ipynb\" target=\"_parent\"><img src=\"https://colab.research.google.com/assets/colab-badge.svg\" alt=\"Open In Colab\"/></a>"
      ]
    },
    {
      "cell_type": "markdown",
      "source": [
        "Algoritmo Ejercicio uno\n",
        "\n",
        "1. Calcular la resistencia equivalente de 𝑛 resistencias en paralelo.\n",
        "2. Ingrese el valor de tres resistencias en ohmios: 1,2,3\n",
        "3. Calcular la resistencia equivalente: req = 1/(1/r1 + 1/r2 + 1/r3)\n",
        "4. Mostrar el resultado de la resistencia equivalente en ohmios."
      ],
      "metadata": {
        "id": "d7tRnI8821Mn"
      }
    },
    {
      "cell_type": "markdown",
      "source": [
        "```\n",
        "Start\n",
        "// Ejercicio 1\n",
        "\n",
        "program resistencia_equivalente\n",
        "\n",
        "declare int n= 3// resistencias en paralelo\n",
        "declare real r1\n",
        "declare real r2\n",
        "declare real r3\n",
        "declare real req\n",
        "\n",
        "display\"ingrese el valor de la resistencia 1\"\n",
        "input 1\n",
        "\n",
        "display\"ingrese el valor de la resistencia 2\"\n",
        "input 2\n",
        "\n",
        "display\"ingrese el valor de la resistencia 3\"\n",
        "input 3\n",
        "\n",
        "set req= 1/(1/r1+ 1/r2+ 1/r3+)\n",
        "\n",
        "display \"La resistencia equivalente de \",n,\"resistencias en paralelo es de: \", req,\"ohmios.\"\n",
        "\n",
        "end\n",
        "```"
      ],
      "metadata": {
        "id": "zFsstq2Yi3qc"
      }
    },
    {
      "cell_type": "code",
      "source": [
        "Ejercicio uno\n",
        "\n",
        "#funcion para calcular la resistencia equivalente\n",
        "n=3 para referirnos a la cantidad de resistencias en paralelo\n",
        "r1=float(input(\"ingrese el valor de la resistencia 1\"))\n",
        "r2=float(input(\"ingrese el valor de la resistencia 2\"))\n",
        "r3=float(input(\"ingrese el valor de la resistencia 3\"))\n",
        "req=1/1/r1+ 1/r2+ 1/r3)\n",
        "\n",
        "print (\"La resistencia equivalente de\", n, \"resistencias en paralelo es de:\",\n",
        "req,\"ohmios.\")\n",
        "\n"
      ],
      "metadata": {
        "id": "LylgpswHWOhd"
      },
      "execution_count": null,
      "outputs": []
    },
    {
      "cell_type": "markdown",
      "source": [
        "Algoritmo Ejercicio dos\n",
        "\n",
        "1. Calcular la potencia disipada\n",
        "2. Pedir al usuario el valor de la resistencia en ohmios\n",
        "3. Pedir al usuario el valor de la corriente amperio\n",
        "4. Calcular la potencia con la ley de Joule: P = i^2 * r\n",
        "5. Mostrar el resultaddo de la potencia en vatios"
      ],
      "metadata": {
        "id": "rJ2ZDjh04666"
      }
    },
    {
      "cell_type": "markdown",
      "source": [
        "```\n",
        "start\n",
        "\n",
        "// Ejercicio 2\n",
        "\n",
        "program potencia_disipada\n",
        "\n",
        "declare real r\n",
        "declare real i\n",
        "declare real potencia\n",
        "\n",
        "display\"Ingresa el valor de la resistencia(ohmios):\"\n",
        "input r\n",
        "\n",
        "display\"Ingresa el valor de la corriente(amperio): \"\n",
        "input i\n",
        "\n",
        "set potencia => i^2 * r\n",
        "\n",
        "display\"La potencia es de: \", potencia, \"vatios\"\n",
        "\n",
        "end\n",
        "```"
      ],
      "metadata": {
        "id": "6JPyIIkCjJCM"
      }
    },
    {
      "cell_type": "code",
      "source": [
        "Ejercicio dos\n",
        "\n",
        "#funcion para calcular la potencia en vatios\n",
        "r=float(input(\"ingrese el valor de la resistencia:\"))\n",
        "i=float(input(\"ingrese el valor de la corriente:\"))\n",
        "potencia=i^2*r\n",
        "\n",
        "print(\"La potencia es de:\" ,potencia ,\"vatios\")\n"
      ],
      "metadata": {
        "id": "FSIMNZjd6x_d"
      },
      "execution_count": null,
      "outputs": []
    },
    {
      "cell_type": "markdown",
      "source": [
        "Algoritmo Ejercicio tres\n",
        "\n",
        "1. Calcular la corriente eléctrica en una resistencia\n",
        "2. Pedir al usurio ingresar el valor de la tension en voltios\n",
        "3. Pedir al usurio ingresar el valor de la resistencia en ohmios\n",
        "4. Calcular la corriente con la siguiente formula i=v/r\n",
        "5. Mostrar la corriente en amperios"
      ],
      "metadata": {
        "id": "Et4YGMIlCzDu"
      }
    },
    {
      "cell_type": "markdown",
      "source": [
        "```\n",
        "Start\n",
        "\n",
        "// Ejercicio 3\n",
        "\n",
        "program corriente_electrica\n",
        "\n",
        "declare real v\n",
        "declare real r\n",
        "declare real i\n",
        "\n",
        "display\"Ingrese el valor de la tension (voltios):\n",
        "input v\n",
        "\n",
        "display\"Ingrese el valor de la resistencia (ohmios):\n",
        "input r\n",
        "\n",
        "set i=v/r\n",
        "\n",
        "display\"La corriente electrica es: \", i, \"amperios\"\n",
        "\n",
        "end\n",
        "```"
      ],
      "metadata": {
        "id": "3dnwtRoAjZqB"
      }
    },
    {
      "cell_type": "code",
      "source": [
        "Ejercicio tres\n",
        "\n",
        "#funcion para calcular la corriente elctrica en amperios\n",
        "v=real(input(\"ingrese el valor de la tensión(voltios):\"))\n",
        "r=real(input(\"ingrese el valor de la resistencia(ohmios):\"))\n",
        "\n",
        "i=v/r\n",
        "\n",
        "print(\"La corriente electrica es:\",i,\"amperios\")\n"
      ],
      "metadata": {
        "id": "ize-YgSL60GA"
      },
      "execution_count": null,
      "outputs": []
    },
    {
      "cell_type": "markdown",
      "source": [
        "Algoritmo Ejercicio cuatro\n",
        "\n",
        "1. Calcular la constante de tiempo en un circuito RC.\n",
        "2. Pedir al usurio ingresar el valor de la resistencia en ohmios\n",
        "3. Pedir al usurio ingresar el valor de la capacitancia en faradios\n",
        "4. Calcular la constante de tiempo con la siguiente formula set t = r*c\n",
        "5. Mostrar el resultado de la constante de tiempo en segundos"
      ],
      "metadata": {
        "id": "e0zLi9shFQPI"
      }
    },
    {
      "cell_type": "markdown",
      "source": [
        "```\n",
        "Start\n",
        "\n",
        "// Ejercicio 4\n",
        "\n",
        "program constante_de_tiempo\n",
        "\n",
        "declare real r\n",
        "declare real c\n",
        "declare real t\n",
        "\n",
        "display\"ingrese el valor de la resistencia(ohmios)\n",
        "input r\n",
        "\n",
        "display\"ingrese el valor de la capacitancia(faradios)\n",
        "input c\n",
        "\n",
        "set t = r*c\n",
        "\n",
        "display\"La constante de tiempo es de:\n",
        "\",t,\"segundos\"\n",
        "\n",
        "end\n",
        "```"
      ],
      "metadata": {
        "id": "gE20RrOoluv5"
      }
    },
    {
      "cell_type": "code",
      "source": [
        "Ejercicio cuatro\n",
        "\n",
        "# funcion para calcular la costante de tiempo\n",
        "r=real(input(\"ingrese el valor de la resistencia(ohmios):\"))\n",
        "c=real(input(\"ingrese el valor de la capaciatncia(faradios):\"))\n",
        "\n",
        "t=r*c\n",
        "\n",
        "print(\"La constante de tiempo es de:\",t,\"segundos\")\n",
        "\n"
      ],
      "metadata": {
        "id": "BGeqlUa761AM"
      },
      "execution_count": null,
      "outputs": []
    },
    {
      "cell_type": "markdown",
      "source": [
        "Algoritmo Ejercicio cinco\n",
        "\n",
        "1. Calcular el consumo de energía en un periodo de tiempo\n",
        "2. Pedir al usurio ingresar en numero de horas n\n",
        "3. Solicita n valores de potencia promedio en kWh\n",
        "4. Suma todos los valores para obtener la energia total consumida\n",
        "5. Mostrar el resultado en kWh"
      ],
      "metadata": {
        "id": "aa0i_5wLGRW8"
      }
    },
    {
      "cell_type": "markdown",
      "source": [
        "```\n",
        "Start\n",
        "\n",
        "// Ejercicio 5\n",
        "\n",
        "program consumo_energia\n",
        "\n",
        "declare real n\n",
        "declare real potencia_promedio\n",
        "declare real energia_total <- 0\n",
        "\n",
        "display\"Ingrese el número de horas:\"\n",
        "input n\n",
        "\n",
        "for i from 1 to n do\n",
        "display\"Ingrese la potencia promedio en kWh para la hora \", i, \":\"    \n",
        " input potencia\n",
        "\n",
        "set energia_total <- energia_total + potencia\n",
        "end for\n",
        "\n",
        "display\"La energía total consumida en el período es: \", energia_total,\"kWh\"\n",
        "\n",
        "end\n",
        "```"
      ],
      "metadata": {
        "id": "6ZlisFPiqddS"
      }
    },
    {
      "cell_type": "code",
      "source": [
        "Ejercicio cinco\n",
        "\n",
        "# Funcion para calcular el consumo total de enrgia\n",
        "n=int(input(\"ingrese el numero de horas\"))\n",
        "potencia=float(input(\"Ingrese la potencia promedio en kWh para la hora \", i, \":\"))\n",
        "\n",
        "energia_total <- energia_total + potencia\n",
        "\n",
        "print(\"La energía total consumida en el período es: \", energia_total,\"kWh\")"
      ],
      "metadata": {
        "id": "THn6U-RU61v_"
      },
      "execution_count": null,
      "outputs": []
    }
  ]
}